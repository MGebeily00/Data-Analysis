{
 "cells": [
  {
   "cell_type": "markdown",
   "metadata": {},
   "source": [
    "# Project: Investigate a Dataset - No Show Appointments\n",
    "\n",
    "## Table of Contents\n",
    "<ul>\n",
    "<li><a href=\"#intro\">Introduction</a></li>\n",
    "<li><a href=\"#wrangling\">Data Wrangling</a></li>\n",
    "<li><a href=\"#eda\">Exploratory Data Analysis</a></li>\n",
    "<li><a href=\"#conclusions\">Conclusions</a></li>\n",
    "</ul>"
   ]
  },
  {
   "cell_type": "markdown",
   "metadata": {},
   "source": [
    "<a id='intro'></a>\n",
    "## Introduction\n",
    "\n",
    "### Dataset Description \n",
    "This Dataset is provided by Kaggle.com under the title \"Medical Appointment No Shows: Why do 30% of patients miss their scheduled appointments?\". This dataset collects information from 100k medical appointments in Brazil and is focused on the  question of whether or not patients show up for their appointment. A number of characteristics about the patient are included in each row. Columns in this Dataset include:\n",
    "<ul>\n",
    "    <li>The patient and appointment ID</li>\n",
    "    <li>The gendre of the patient</li>\n",
    "    <li>The age of the patient</li>\n",
    "    <li>The time for scheduling the appointment as well as the appointment time itself</li> \n",
    "    <li>The hospital neighbourhood</li>\n",
    "    <li>If they are part of a Brasilian welfare program called Bolsa Família</li>\n",
    "    <li>the different ailments the patient might suffer from which include:\n",
    "        <ul>\n",
    "        <li>Diabates</li>\n",
    "        <li>Hypertension</li>\n",
    "        <li>Alcohlism</li>\n",
    "        <li>Handicap</li>\n",
    "        </ul>\n",
    "    </li>\n",
    "    <li>If they got an SMS to remind them of the appointment</li>\n",
    "    <li>And of course, finally, whether they showed up at the appointment or not</li>\n",
    "</ul>\n",
    "Some interesting questions can be posed about this dataset and those will be discussed in the follwing section.\n",
    "    \n",
    "\n",
    "### Question(s) for Analysis\n",
    "Before questions can be asked, one must identify the independant variables and the dependant ones. Of course, the dependant variable for this set would be the \"show/no-show\" data because that is what is being questioned and that is the variable that may change depending on other variables. The independant variables would be every other variable in the data set.  \n",
    "With that done, it is now possible to ask questions about why a patient might not show up to their appointment.  \n",
    "  \n",
    "Some questions that can be asked are:\n",
    "<ul>\n",
    "    <li>Does gender affect whether or not the patient shows up</li>\n",
    "    <li>Does age affect if they apply for welfare</li>\n",
    "    <li>Does a person with a handicap have a higher chance of missing their appointment</li>\n",
    "    <li>Will a person reminded by SMS still miss their appointment</li>\n",
    "</ul>\n",
    "\n",
    "Now that the questions are defined, importing the data and cleaning it depending on the needed variables, can be carried out."
   ]
  },
  {
   "cell_type": "code",
   "execution_count": 4,
   "metadata": {},
   "outputs": [
    {
     "ename": "AttributeError",
     "evalue": "module 'matplotlib' has no attribute 'rcParams'",
     "output_type": "error",
     "traceback": [
      "\u001B[1;31m---------------------------------------------------------------------------\u001B[0m",
      "\u001B[1;31mAttributeError\u001B[0m                            Traceback (most recent call last)",
      "Cell \u001B[1;32mIn [4], line 5\u001B[0m\n\u001B[0;32m      3\u001B[0m \u001B[38;5;28;01mimport\u001B[39;00m \u001B[38;5;21;01mpandas\u001B[39;00m \u001B[38;5;28;01mas\u001B[39;00m \u001B[38;5;21;01mpd\u001B[39;00m\n\u001B[0;32m      4\u001B[0m \u001B[38;5;28;01mimport\u001B[39;00m \u001B[38;5;21;01mnumpy\u001B[39;00m \u001B[38;5;28;01mas\u001B[39;00m \u001B[38;5;21;01mnp\u001B[39;00m\n\u001B[1;32m----> 5\u001B[0m \u001B[38;5;28;01mimport\u001B[39;00m \u001B[38;5;21;01mmatplotlib\u001B[39;00m\u001B[38;5;21;01m.\u001B[39;00m\u001B[38;5;21;01mpyplot\u001B[39;00m \u001B[38;5;28;01mas\u001B[39;00m \u001B[38;5;21;01mplt\u001B[39;00m\n\u001B[0;32m      6\u001B[0m \u001B[38;5;28;01mimport\u001B[39;00m \u001B[38;5;21;01mseaborn\u001B[39;00m \u001B[38;5;28;01mas\u001B[39;00m \u001B[38;5;21;01msns\u001B[39;00m\n\u001B[0;32m      7\u001B[0m get_ipython()\u001B[38;5;241m.\u001B[39mrun_line_magic(\u001B[38;5;124m'\u001B[39m\u001B[38;5;124m'\u001B[39m, \u001B[38;5;124m'\u001B[39m\u001B[38;5;124mmatplotlib inline\u001B[39m\u001B[38;5;124m'\u001B[39m)\n",
      "File \u001B[1;32m~\\anaconda3\\envs\\Python\\lib\\site-packages\\matplotlib\\pyplot.py:52\u001B[0m\n\u001B[0;32m     50\u001B[0m \u001B[38;5;28;01mfrom\u001B[39;00m \u001B[38;5;21;01mcycler\u001B[39;00m \u001B[38;5;28;01mimport\u001B[39;00m cycler\n\u001B[0;32m     51\u001B[0m \u001B[38;5;28;01mimport\u001B[39;00m \u001B[38;5;21;01mmatplotlib\u001B[39;00m\n\u001B[1;32m---> 52\u001B[0m \u001B[38;5;28;01mimport\u001B[39;00m \u001B[38;5;21;01mmatplotlib\u001B[39;00m\u001B[38;5;21;01m.\u001B[39;00m\u001B[38;5;21;01mcolorbar\u001B[39;00m\n\u001B[0;32m     53\u001B[0m \u001B[38;5;28;01mimport\u001B[39;00m \u001B[38;5;21;01mmatplotlib\u001B[39;00m\u001B[38;5;21;01m.\u001B[39;00m\u001B[38;5;21;01mimage\u001B[39;00m\n\u001B[0;32m     54\u001B[0m \u001B[38;5;28;01mfrom\u001B[39;00m \u001B[38;5;21;01mmatplotlib\u001B[39;00m \u001B[38;5;28;01mimport\u001B[39;00m _api\n",
      "File \u001B[1;32m~\\anaconda3\\envs\\Python\\lib\\site-packages\\matplotlib\\colorbar.py:19\u001B[0m\n\u001B[0;32m     16\u001B[0m \u001B[38;5;28;01mimport\u001B[39;00m \u001B[38;5;21;01mnumpy\u001B[39;00m \u001B[38;5;28;01mas\u001B[39;00m \u001B[38;5;21;01mnp\u001B[39;00m\n\u001B[0;32m     18\u001B[0m \u001B[38;5;28;01mimport\u001B[39;00m \u001B[38;5;21;01mmatplotlib\u001B[39;00m \u001B[38;5;28;01mas\u001B[39;00m \u001B[38;5;21;01mmpl\u001B[39;00m\n\u001B[1;32m---> 19\u001B[0m \u001B[38;5;28;01mfrom\u001B[39;00m \u001B[38;5;21;01mmatplotlib\u001B[39;00m \u001B[38;5;28;01mimport\u001B[39;00m _api, cbook, collections, cm, colors, contour, ticker\n\u001B[0;32m     20\u001B[0m \u001B[38;5;28;01mimport\u001B[39;00m \u001B[38;5;21;01mmatplotlib\u001B[39;00m\u001B[38;5;21;01m.\u001B[39;00m\u001B[38;5;21;01martist\u001B[39;00m \u001B[38;5;28;01mas\u001B[39;00m \u001B[38;5;21;01mmartist\u001B[39;00m\n\u001B[0;32m     21\u001B[0m \u001B[38;5;28;01mimport\u001B[39;00m \u001B[38;5;21;01mmatplotlib\u001B[39;00m\u001B[38;5;21;01m.\u001B[39;00m\u001B[38;5;21;01mpatches\u001B[39;00m \u001B[38;5;28;01mas\u001B[39;00m \u001B[38;5;21;01mmpatches\u001B[39;00m\n",
      "File \u001B[1;32m~\\anaconda3\\envs\\Python\\lib\\site-packages\\matplotlib\\collections.py:19\u001B[0m\n\u001B[0;32m     16\u001B[0m \u001B[38;5;28;01mimport\u001B[39;00m \u001B[38;5;21;01mnumpy\u001B[39;00m \u001B[38;5;28;01mas\u001B[39;00m \u001B[38;5;21;01mnp\u001B[39;00m\n\u001B[0;32m     18\u001B[0m \u001B[38;5;28;01mimport\u001B[39;00m \u001B[38;5;21;01mmatplotlib\u001B[39;00m \u001B[38;5;28;01mas\u001B[39;00m \u001B[38;5;21;01mmpl\u001B[39;00m\n\u001B[1;32m---> 19\u001B[0m \u001B[38;5;28;01mfrom\u001B[39;00m \u001B[38;5;21;01m.\u001B[39;00m \u001B[38;5;28;01mimport\u001B[39;00m (_api, _path, artist, cbook, cm, colors \u001B[38;5;28;01mas\u001B[39;00m mcolors, _docstring,\n\u001B[0;32m     20\u001B[0m                hatch \u001B[38;5;28;01mas\u001B[39;00m mhatch, lines \u001B[38;5;28;01mas\u001B[39;00m mlines, path \u001B[38;5;28;01mas\u001B[39;00m mpath, transforms)\n\u001B[0;32m     21\u001B[0m \u001B[38;5;28;01mfrom\u001B[39;00m \u001B[38;5;21;01m.\u001B[39;00m\u001B[38;5;21;01m_enums\u001B[39;00m \u001B[38;5;28;01mimport\u001B[39;00m JoinStyle, CapStyle\n\u001B[0;32m     24\u001B[0m \u001B[38;5;66;03m# \"color\" is excluded; it is a compound setter, and its docstring differs\u001B[39;00m\n\u001B[0;32m     25\u001B[0m \u001B[38;5;66;03m# in LineCollection.\u001B[39;00m\n",
      "File \u001B[1;32m~\\anaconda3\\envs\\Python\\lib\\site-packages\\matplotlib\\artist.py:16\u001B[0m\n\u001B[0;32m     14\u001B[0m \u001B[38;5;28;01mfrom\u001B[39;00m \u001B[38;5;21;01m.\u001B[39;00m \u001B[38;5;28;01mimport\u001B[39;00m _api, cbook\n\u001B[0;32m     15\u001B[0m \u001B[38;5;28;01mfrom\u001B[39;00m \u001B[38;5;21;01m.\u001B[39;00m\u001B[38;5;21;01mcolors\u001B[39;00m \u001B[38;5;28;01mimport\u001B[39;00m BoundaryNorm\n\u001B[1;32m---> 16\u001B[0m \u001B[38;5;28;01mfrom\u001B[39;00m \u001B[38;5;21;01m.\u001B[39;00m\u001B[38;5;21;01mcm\u001B[39;00m \u001B[38;5;28;01mimport\u001B[39;00m ScalarMappable\n\u001B[0;32m     17\u001B[0m \u001B[38;5;28;01mfrom\u001B[39;00m \u001B[38;5;21;01m.\u001B[39;00m\u001B[38;5;21;01mpath\u001B[39;00m \u001B[38;5;28;01mimport\u001B[39;00m Path\n\u001B[0;32m     18\u001B[0m \u001B[38;5;28;01mfrom\u001B[39;00m \u001B[38;5;21;01m.\u001B[39;00m\u001B[38;5;21;01mtransforms\u001B[39;00m \u001B[38;5;28;01mimport\u001B[39;00m (Bbox, IdentityTransform, Transform, TransformedBbox,\n\u001B[0;32m     19\u001B[0m                          TransformedPatchPath, TransformedPath)\n",
      "File \u001B[1;32m~\\anaconda3\\envs\\Python\\lib\\site-packages\\matplotlib\\cm.py:30\u001B[0m\n\u001B[0;32m     26\u001B[0m \u001B[38;5;28;01mfrom\u001B[39;00m \u001B[38;5;21;01mmatplotlib\u001B[39;00m\u001B[38;5;21;01m.\u001B[39;00m\u001B[38;5;21;01m_cm\u001B[39;00m \u001B[38;5;28;01mimport\u001B[39;00m datad\n\u001B[0;32m     27\u001B[0m \u001B[38;5;28;01mfrom\u001B[39;00m \u001B[38;5;21;01mmatplotlib\u001B[39;00m\u001B[38;5;21;01m.\u001B[39;00m\u001B[38;5;21;01m_cm_listed\u001B[39;00m \u001B[38;5;28;01mimport\u001B[39;00m cmaps \u001B[38;5;28;01mas\u001B[39;00m cmaps_listed\n\u001B[1;32m---> 30\u001B[0m _LUTSIZE \u001B[38;5;241m=\u001B[39m \u001B[43mmpl\u001B[49m\u001B[38;5;241;43m.\u001B[39;49m\u001B[43mrcParams\u001B[49m[\u001B[38;5;124m'\u001B[39m\u001B[38;5;124mimage.lut\u001B[39m\u001B[38;5;124m'\u001B[39m]\n\u001B[0;32m     33\u001B[0m \u001B[38;5;28;01mdef\u001B[39;00m \u001B[38;5;21m_gen_cmap_registry\u001B[39m():\n\u001B[0;32m     34\u001B[0m     \u001B[38;5;124;03m\"\"\"\u001B[39;00m\n\u001B[0;32m     35\u001B[0m \u001B[38;5;124;03m    Generate a dict mapping standard colormap names to standard colormaps, as\u001B[39;00m\n\u001B[0;32m     36\u001B[0m \u001B[38;5;124;03m    well as the reversed colormaps.\u001B[39;00m\n\u001B[0;32m     37\u001B[0m \u001B[38;5;124;03m    \"\"\"\u001B[39;00m\n",
      "\u001B[1;31mAttributeError\u001B[0m: module 'matplotlib' has no attribute 'rcParams'"
     ]
    }
   ],
   "source": [
    "# Use this cell to set up import statements for all of the packages that you\n",
    "#   plan to use.\n",
    "import pandas as pd\n",
    "import numpy as np\n",
    "import matplotlib.pyplot as plt\n",
    "import seaborn as sns\n",
    "% matplotlib inline\n",
    "# Remember to include a 'magic word' so that your visualizations are plotted\n",
    "#   inline with the notebook. See this page for more:\n",
    "#   http://ipython.readthedocs.io/en/stable/interactive/magics.html\n"
   ]
  },
  {
   "cell_type": "code",
   "execution_count": null,
   "metadata": {},
   "outputs": [],
   "source": [
    "# Upgrade pandas to use dataframe.explode() function. \n",
    "#!pip install --upgrade pandas"
   ]
  },
  {
   "cell_type": "markdown",
   "metadata": {},
   "source": [
    "<a id='wrangling'></a>\n",
    "## Data Wrangling\n"
   ]
  },
  {
   "cell_type": "code",
   "execution_count": null,
   "metadata": {},
   "outputs": [],
   "source": [
    "# Load your data and print out a few lines. Perform operations to inspect data\n",
    "#   types and look for instances of missing or possibly errant data.\n",
    "# pd.options.display.max_rows = 1000000\n",
    "df = pd.read_csv('Database_No_show_appointments/noshowappointments-kagglev2-may-2016.csv')"
   ]
  },
  {
   "cell_type": "code",
   "execution_count": null,
   "metadata": {},
   "outputs": [],
   "source": [
    "df.shape"
   ]
  },
  {
   "cell_type": "code",
   "execution_count": null,
   "metadata": {},
   "outputs": [],
   "source": [
    "df.describe()"
   ]
  },
  {
   "cell_type": "markdown",
   "metadata": {},
   "source": [
    "<a></a>\n",
    "> After further internet searching, I found out that the above error \"TypeError: \\_\\_init\\_\\_() got an unexpected keyword argument 'max_rows'\" and \"ImportError: cannot import name 'is_url'\" a there because of the rows being a very large number, 110527 according to the shape function in fact, and that caused an error with pandas. I have tried to fix it with the commented out code (taken from <a href= https://stackoverflow.com/questions/71369078/init-got-an-unexpected-keyword-argument-max-rows>this</a> stack overflow page) above the df definition but it didn't make much of a difference so I commented it out again. the error seems to be a warning more than it is an error, meaning that it doesn't stop the code from running and functioning as it should. Thus it can be ignored."
   ]
  },
  {
   "cell_type": "markdown",
   "metadata": {},
   "source": [
    "The above mentioned error was resolved after a kernel restart and a pandas upgrade further than the given 0.23.0 version. I have left the above block just in case the error returns when you review the notebook and would like to have an explanation of what was happening"
   ]
  },
  {
   "cell_type": "code",
   "execution_count": null,
   "metadata": {},
   "outputs": [],
   "source": [
    "df.info()"
   ]
  },
  {
   "cell_type": "code",
   "execution_count": null,
   "metadata": {},
   "outputs": [],
   "source": [
    "sum(df.duplicated())"
   ]
  },
  {
   "cell_type": "code",
   "execution_count": null,
   "metadata": {},
   "outputs": [],
   "source": [
    "df.drop(['PatientId','AppointmentID','Neighbourhood','ScheduledDay','AppointmentDay'],axis=1,inplace=True)"
   ]
  },
  {
   "cell_type": "markdown",
   "metadata": {},
   "source": [
    "\n",
    "### Data Cleaning\n",
    "We did a quick analysis of the dataset to see if we had any missing values, duplicated rows or wrong data types. Fortunately, the data set had no missing values nor duplicated rows and all the variables we will work with have the correct data type. Then we had to drop the unnecessary columns from our dataframe. These were the data we did not need in our questions. This included the patient and appointment IDs as they were only specific to the user themselves rather than helping in answering our questions. The appointment and scheduled dates were not needed either because our scope does not depend on the dates/durations between scheduled and appointment dates. Finally, we dropped the hospital neighbourhood column as well because we do not care where the hospital is situated for this analysis. Next, we will rename the columns to have a lower case name and underscores, where appropriate, to make the naming used consistent and easy.\n",
    " "
   ]
  },
  {
   "cell_type": "code",
   "execution_count": null,
   "metadata": {},
   "outputs": [],
   "source": [
    "# After discussing the structure of the data and any problems that need to be\n",
    "#   cleaned, perform those cleaning steps in the second part of this section.\n",
    "df.rename(columns=lambda x: x.lower().strip().replace('-','_'),inplace=True)"
   ]
  },
  {
   "cell_type": "code",
   "execution_count": null,
   "metadata": {},
   "outputs": [],
   "source": [
    "#The handicap column had a typo and needed to be rename d from \"handcap\" to \"handicap\"\n",
    "df.rename({'handcap':'handicap'},axis=1,inplace=True)"
   ]
  },
  {
   "cell_type": "code",
   "execution_count": null,
   "metadata": {},
   "outputs": [],
   "source": [
    "df.head()"
   ]
  },
  {
   "cell_type": "markdown",
   "metadata": {},
   "source": [
    "<a id='eda'></a>\n",
    "## Exploratory Data Analysis\n",
    "\n",
    "In this section, the actual Exploratory Data Analysis (EDA) will be carried out. Some questions are posed below and they will be assessed using some statistics, mainly using the describe and groupby methods to reach some conclusions. Some graphs for visualising the data will also be used, which might include histograms, bar charts and scatterplots.\n",
    "\n"
   ]
  },
  {
   "cell_type": "code",
   "execution_count": null,
   "metadata": {
    "scrolled": true
   },
   "outputs": [],
   "source": [
    "# Firstly, I will look at a general histogram of the whole dataframe to see how the results are distrubuted as well as\n",
    "# look at the distribution numerically using .describe()\n",
    "df.describe()"
   ]
  },
  {
   "cell_type": "code",
   "execution_count": null,
   "metadata": {
    "scrolled": false
   },
   "outputs": [],
   "source": [
    "df.hist(figsize=(15,15));"
   ]
  },
  {
   "cell_type": "markdown",
   "metadata": {},
   "source": [
    "The minimum age was noticed to be -1 and the max age to be 115. Although they both may seem like erronuous data points, only the -1 will be dropped because most data will be affected by that negative value. While the entries above 100 are also numerous so we can assume that these numbers, while rather unusual, are not erronuous outliers.\n",
    "\n",
    "Looking at the rest of the histograms, we can see that most people were not on welfare and did not have handicaps or other ailments (infact more than 75% as shown by the describe method)\n",
    "\n",
    "We can also see that almost 50% of the patients received an SMS reminder to show up.\n",
    "\n",
    "The age of patients seems skewed to the right, i.e. the mean (centre) of the data is more on the left side.\n",
    "\n",
    "Next, the questions posed will be answered"
   ]
  },
  {
   "cell_type": "code",
   "execution_count": null,
   "metadata": {},
   "outputs": [],
   "source": [
    "df.drop(index=df.query('age == -1').index[0],inplace=True)"
   ]
  },
  {
   "cell_type": "markdown",
   "metadata": {},
   "source": [
    "### Does Gender affect whether or not the patient shows up?"
   ]
  },
  {
   "cell_type": "code",
   "execution_count": null,
   "metadata": {},
   "outputs": [],
   "source": [
    "# to find out what genders we have:\n",
    "df.gender.unique()"
   ]
  },
  {
   "cell_type": "code",
   "execution_count": null,
   "metadata": {},
   "outputs": [],
   "source": [
    "#split in 2 dfs for ease of access\n",
    "male = df.query('gender ==\"M\"')\n",
    "female = df.query('gender == \"F\"')\n",
    "male,female"
   ]
  },
  {
   "cell_type": "code",
   "execution_count": null,
   "metadata": {},
   "outputs": [],
   "source": [
    "male_tot = male.shape[0]\n",
    "female_tot = female.shape[0]\n",
    "plt.bar([1,2],[male_tot,female_tot],tick_label=['Males','Females'])\n",
    "plt.title('Gender split in patients'.title())\n",
    "plt.xlabel('Gender')\n",
    "plt.ylabel('Number');"
   ]
  },
  {
   "cell_type": "code",
   "execution_count": null,
   "metadata": {},
   "outputs": [],
   "source": [
    "split = df.groupby(['gender','no_show']).count()['age']    # Any arbitrary column chosen to show counts\n",
    "split"
   ]
  },
  {
   "cell_type": "code",
   "execution_count": null,
   "metadata": {},
   "outputs": [],
   "source": [
    "#creat proportions function to avoid redoing code multiple times\n",
    "def get_prop(var,counts,tots):\n",
    "    prop = counts[var] / tots\n",
    "    return prop"
   ]
  },
  {
   "cell_type": "code",
   "execution_count": null,
   "metadata": {},
   "outputs": [],
   "source": [
    "male_prop = get_prop('M',split,male_tot)\n",
    "female_prop = get_prop('F',split,female_tot)\n",
    "male_prop,female_prop"
   ]
  },
  {
   "cell_type": "code",
   "execution_count": null,
   "metadata": {},
   "outputs": [],
   "source": [
    "def draw_bar(prop1,prop2,label1,label2,var_name):\n",
    "    bars1 = plt.bar([1,3], prop1, 0.5, color='b', alpha=.7, label='{}'.format(label1))\n",
    "    bars2 = plt.bar([1.5,3.5], prop2, 0.5, color='r', alpha=.7, label='{}'.format(label2))\n",
    "\n",
    "    # title and labels\n",
    "    plt.ylabel('Proportion of {}'.format(var_name))\n",
    "    plt.xlabel('Did They Show?')\n",
    "    plt.title('Proportion by {} and No Show'.format(var_name))\n",
    "    locations = [1.25 , 3.25]  # xtick locations\n",
    "    labels = ['Yes', 'No']  # xtick labels (switched Yes and No for clarity: now 'Yes' means they did show up and vice versa)\n",
    "    plt.xticks(locations, labels)\n",
    "\n",
    "    # legend\n",
    "    plt.legend();"
   ]
  },
  {
   "cell_type": "code",
   "execution_count": null,
   "metadata": {
    "scrolled": true
   },
   "outputs": [],
   "source": [
    "# plot bars\n",
    "draw_bar(male_prop,female_prop,'Males','Females','Gender')"
   ]
  },
  {
   "cell_type": "markdown",
   "metadata": {},
   "source": [
    "From the above plot we can clearly see that the percentage of males showing up to their appointments was higher than females and the percentage for missing the appointments was higher for females than males.\n",
    "\n",
    "This rules that Gender indeed affect if the patient shows up or not, showing that females were more likely to miss their appointment"
   ]
  },
  {
   "cell_type": "markdown",
   "metadata": {},
   "source": [
    "### Does age affect if they apply for welfare?"
   ]
  },
  {
   "cell_type": "code",
   "execution_count": null,
   "metadata": {},
   "outputs": [],
   "source": [
    "df.describe()"
   ]
  },
  {
   "cell_type": "code",
   "execution_count": null,
   "metadata": {},
   "outputs": [],
   "source": [
    "yes_schol = df.groupby('age')['scholarship'].sum()\n",
    "yes_schol"
   ]
  },
  {
   "cell_type": "code",
   "execution_count": null,
   "metadata": {},
   "outputs": [],
   "source": [
    "yes_schol.plot(kind='bar',width=1, color='b', figsize=(20,20))\n",
    "plt.title('Amount of people signed up for welfare based on age'.title())\n",
    "plt.ylabel('Amount of People');"
   ]
  },
  {
   "cell_type": "code",
   "execution_count": null,
   "metadata": {},
   "outputs": [],
   "source": [
    "# Alternative method to create histogram, but less clean so didn't use it:\n",
    "\n",
    "#df.query('scholarship == 1').age.plot.hist(by=\"scholarship\", bins=100, figsize=(10, 8)); "
   ]
  },
  {
   "cell_type": "markdown",
   "metadata": {},
   "source": [
    "In the histogram (made out of a bar chart) above, it shows that most welfare patients are middle-aged adults where the peak is shown at 38. There are other local peaks at 16 and 5. This might be children enrolled in the welfare program along with their parents seeing that <a href='https://en.wikipedia.org/wiki/Bolsa_Fam%C3%ADlia#:~:text=In%20order%20to%20be%20eligible%2C%20families%20had%20to%20ensure%20that%20children%20attend%20school'>Bolsa Familia</a> was only awarded to poor families with children enrolled in schools (highlight of text can be seen in link provided). These values then make sense that the amount of adults enrolled (parents) is more than children and seniors, but children more than citizens due to them being the main factor to obtaining the family welfare."
   ]
  },
  {
   "cell_type": "markdown",
   "metadata": {},
   "source": [
    "### Does a person with a handicap have a higher chance of missing their appointment?"
   ]
  },
  {
   "cell_type": "code",
   "execution_count": null,
   "metadata": {},
   "outputs": [],
   "source": [
    "df.handicap.unique()"
   ]
  },
  {
   "cell_type": "markdown",
   "metadata": {},
   "source": [
    "That is unexpected. Should only be 0 and 1 (True or False). further exploration required"
   ]
  },
  {
   "cell_type": "code",
   "execution_count": null,
   "metadata": {},
   "outputs": [],
   "source": [
    "handi_error = df.query('handicap > 1')\n",
    "handi_error"
   ]
  },
  {
   "cell_type": "code",
   "execution_count": null,
   "metadata": {},
   "outputs": [],
   "source": [
    "# Will turn non zero values larger than 1 into a 1 to signify True\n",
    "df['handicap'] = df['handicap'].replace([2,3,4], 1)"
   ]
  },
  {
   "cell_type": "code",
   "execution_count": null,
   "metadata": {},
   "outputs": [],
   "source": [
    "df.handicap.unique()"
   ]
  },
  {
   "cell_type": "code",
   "execution_count": null,
   "metadata": {},
   "outputs": [],
   "source": [
    "handi = df.query('handicap == 1')\n",
    "non = df.query('handicap == 0')\n",
    "handi,non"
   ]
  },
  {
   "cell_type": "code",
   "execution_count": null,
   "metadata": {},
   "outputs": [],
   "source": [
    "handi_tot = handi.shape[0]\n",
    "non_tot = non.shape[0]\n",
    "plt.bar([1,2],[handi_tot,non_tot],tick_label=['Handicapped','Non-Handicapped'])\n",
    "plt.title('Handicapped vs Able Patients'.title())\n",
    "plt.xlabel('Handicapped/Abled')\n",
    "plt.ylabel('Number');"
   ]
  },
  {
   "cell_type": "markdown",
   "metadata": {},
   "source": [
    "Because the value difference is that huge, a proportion comparison would be better"
   ]
  },
  {
   "cell_type": "code",
   "execution_count": null,
   "metadata": {},
   "outputs": [],
   "source": [
    "counts = df.groupby(['handicap','no_show']).count()['age']    # Any arbitrary column chosen to show counts\n",
    "counts"
   ]
  },
  {
   "cell_type": "code",
   "execution_count": null,
   "metadata": {},
   "outputs": [],
   "source": [
    "#get proportions handicapped and able\n",
    "handi_prop = get_prop(1,counts,handi_tot)\n",
    "non_prop = get_prop(0,counts,non_tot)\n",
    "handi_prop,non_prop"
   ]
  },
  {
   "cell_type": "code",
   "execution_count": null,
   "metadata": {},
   "outputs": [],
   "source": [
    "#plot bars\n",
    "draw_bar(handi_prop,non_prop,'Handicapped','Abled','Handicapped')"
   ]
  },
  {
   "cell_type": "markdown",
   "metadata": {},
   "source": [
    "From the comparative bar chart above, it is clear that the answer to the question: \"Does a person with a handicap have a higher chance of missing their appointment?\" is No. From the graphs, it is evident that the percentage of patients missing their appointment is higher for non-handicapped patients."
   ]
  },
  {
   "cell_type": "markdown",
   "metadata": {},
   "source": [
    "### Will a person reminded by SMS still miss their appointment"
   ]
  },
  {
   "cell_type": "code",
   "execution_count": null,
   "metadata": {},
   "outputs": [],
   "source": [
    "# to find out what genders we have:\n",
    "df.sms_received.unique()"
   ]
  },
  {
   "cell_type": "code",
   "execution_count": null,
   "metadata": {},
   "outputs": [],
   "source": [
    "rec = df.query('sms_received == 1')\n",
    "no_rec = df.query('sms_received == 0')\n",
    "rec,no_rec"
   ]
  },
  {
   "cell_type": "code",
   "execution_count": null,
   "metadata": {},
   "outputs": [],
   "source": [
    "rec_tot = rec.shape[0]\n",
    "no_rec_tot = no_rec.shape[0]\n",
    "plt.bar([1,2],[rec_tot,no_rec_tot],tick_label=['Received SMS','Didn\\'t Receive SMS'])\n",
    "plt.title('SMS ' + 'reception in patients'.title())\n",
    "plt.xlabel('SMS Received?')\n",
    "plt.ylabel('Number');"
   ]
  },
  {
   "cell_type": "code",
   "execution_count": null,
   "metadata": {},
   "outputs": [],
   "source": [
    "SMS_count = df.groupby(['sms_received','no_show']).count()['age']    # Any arbitrary column chosen to show counts\n",
    "SMS_count"
   ]
  },
  {
   "cell_type": "code",
   "execution_count": null,
   "metadata": {},
   "outputs": [],
   "source": [
    "#get proportions received and not\n",
    "rec_prop = get_prop(1,SMS_count,rec_tot)\n",
    "no_rec_prop = get_prop(0,SMS_count,no_rec_tot)\n",
    "rec_prop,no_rec_prop"
   ]
  },
  {
   "cell_type": "code",
   "execution_count": null,
   "metadata": {
    "scrolled": true
   },
   "outputs": [],
   "source": [
    "# plot bars\n",
    "draw_bar(rec_prop,no_rec_prop,'Received','Didn\\'t Receive','SMS Reception')"
   ]
  },
  {
   "cell_type": "markdown",
   "metadata": {},
   "source": [
    "Surprisingly, the percentage of people who received a reminder through SMS and showed up, were less than those who didn't receive and SMS altogether. It can be shown in the bar graphs that about 70% of those who received an SMS, showed up. While more than 80% of those who didn't receive an SMS, actually showed up!"
   ]
  },
  {
   "cell_type": "markdown",
   "metadata": {},
   "source": [
    "<a id='conclusions'></a>\n",
    "## Conclusions\n",
    "\n",
    "The Questions asked at the beginning of the report were:\n",
    "<ul>\n",
    "    <li>Does gender affect whether or not the patient shows up</li>\n",
    "    <li>Does age affect if they apply for welfare</li>\n",
    "    <li>Does a person with a handicap have a higher chance of missing their appointment</li>\n",
    "    <li>Will a person reminded by SMS still miss their appointment</li>\n",
    "</ul>\n",
    "\n",
    "They have been analysed above and answered but to summarise and show a clearer answer, the final conclusion for every question will be answered here:\n",
    "\n",
    "#### Does gender affect whether or not the patient shows up?\n",
    "From the above plot we can clearly see that the percentage of males showing up to their appointments was higher than females and the percentage for missing the appointments was higher for females than males.\n",
    "\n",
    "This rules that Gender indeed affects if the patient shows up or not, showing that females were more likely to miss their appointment\n",
    "\n",
    "#### Does age affect if they apply for welfare?\n",
    "In the histogram above, it shows that most welfare patients are middle-aged adults where the peak is shown at 38. There are other local peaks at 16 and 5. This might be children enrolled in the welfare program along with their parents seeing that <a href='https://en.wikipedia.org/wiki/Bolsa_Fam%C3%ADlia#:~:text=In%20order%20to%20be%20eligible%2C%20families%20had%20to%20ensure%20that%20children%20attend%20school'>Bolsa Familia</a> was only awarded to poor families with children enrolled in schools. These values then make sense that the amount of adults enrolled (parents) is more than children and seniors, but children more than citizens due to them being the main factor to obtaining the family welfare.\n",
    "\n",
    "#### Does a person with a handicap have a higher chance of missing their appointment?\n",
    "From the comparative bar chart above, it is clear that the answer to the question \"Does a person with a handicap have a higher chance of missing their appointment?\" is No. From the graphs, it is evident that the percentage of patients missing their appointment is higher for non-handicapped patients.\n",
    "\n",
    "#### Will a person reminded by SMS still miss their appointment?\n",
    "Surprisingly, the percentage of people who received a reminder through SMS and showed up, were less than those who didn't receive and SMS altogether. It can be shown in the bar graphs that about 70% of those who received an SMS, showed up. While more than 80% of those who didn't receive an SMS, actually showed up! Thus, to answer the question, yes a person reminded by SMS will still be likely to miss their appointment.\n",
    "\n",
    "\n",
    "### General Limitations and Improvements\n",
    "A limitation that is faced in this analysis is the very wide differences between variable values. Most of the analysis had to be done using proportions and that doesn't give as much of an accurate result as comparing values right away. comparing 2 percentages together, especially when one signifies a very small amount and the other a very large one, could create unfair comparisons seeing that the smaller variables can fluctuate their percentages much greater than the bigger ones at the slihtest value changes.\n",
    "\n",
    "Further improvements/research can also be done on the neighbourhood of the hospitals to see if perhaps, the neighbourhood is bad/unsafe, could that drive patients to skip out on their appointments? Another research could be looking at jobs/incomes of patients. Is a lower income patient more prone to go to their appointment because it was relatively expensive?"
   ]
  },
  {
   "cell_type": "code",
   "execution_count": null,
   "metadata": {},
   "outputs": [],
   "source": [
    "from subprocess import call\n",
    "call(['python', '-m', 'nbconvert', 'Investigate_a_Dataset.ipynb'])"
   ]
  },
  {
   "cell_type": "code",
   "execution_count": null,
   "metadata": {},
   "outputs": [],
   "source": []
  }
 ],
 "metadata": {
  "kernelspec": {
   "display_name": "Python 3",
   "language": "python",
   "name": "python3"
  },
  "language_info": {
   "codemirror_mode": {
    "name": "ipython",
    "version": 3
   },
   "file_extension": ".py",
   "mimetype": "text/x-python",
   "name": "python",
   "nbconvert_exporter": "python",
   "pygments_lexer": "ipython3",
   "version": "3.6.3"
  }
 },
 "nbformat": 4,
 "nbformat_minor": 2
}
